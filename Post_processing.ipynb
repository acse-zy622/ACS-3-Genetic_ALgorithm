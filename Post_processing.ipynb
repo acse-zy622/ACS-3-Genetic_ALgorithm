{
 "cells": [
  {
   "cell_type": "markdown",
   "id": "07ef8edc-8392-434d-aaf6-913e13b20df1",
   "metadata": {},
   "source": [
    "## Post Processing"
   ]
  },
  {
   "cell_type": "code",
   "execution_count": 1,
   "id": "0fd8480f-0578-494a-9a40-bffb10e0cd52",
   "metadata": {
    "tags": []
   },
   "outputs": [],
   "source": [
    "%precision 3\n",
    "%matplotlib inline\n",
    "import graphviz\n",
    "import numpy as np\n",
    "import matplotlib.pyplot as plt\n",
    "import pandas as pd\n",
    "from PIL import Image, ImageDraw, ImageFont"
   ]
  },
  {
   "cell_type": "markdown",
   "id": "59029223-f4a2-4a2e-9dbb-af38a4b4730f",
   "metadata": {},
   "source": [
    "#### Read circuit vector file"
   ]
  },
  {
   "cell_type": "code",
   "execution_count": 2,
   "id": "418994b8-9944-4797-82c4-1e4141663aac",
   "metadata": {
    "tags": []
   },
   "outputs": [],
   "source": [
    "circuit_conf = pd.read_csv('Circuit_Vector.txt', sep=' ', header=None).values.reshape(-1)\n",
    "monetary_value = pd.read_csv('Monetary_Value.txt', sep=' ', header=None).values.reshape(-1)"
   ]
  },
  {
   "cell_type": "markdown",
   "id": "397eab0d-b2ee-4fee-9595-3a5c4974b8bf",
   "metadata": {},
   "source": [
    "#### Generate graph"
   ]
  },
  {
   "cell_type": "code",
   "execution_count": 3,
   "id": "9f725c2d-093d-44f7-9a98-7620c6095295",
   "metadata": {
    "tags": []
   },
   "outputs": [
    {
     "data": {
      "text/plain": [
       "'flowchart.png'"
      ]
     },
     "execution_count": 3,
     "metadata": {},
     "output_type": "execute_result"
    }
   ],
   "source": [
    "# Create a directed diagram\n",
    "dot = graphviz.Digraph()\n",
    "\n",
    "# Add some common nodes\n",
    "dot.node('Feed', 'Feed', shape='box')\n",
    "dot.node('Concentrate', 'Concentrate', shape='box')\n",
    "dot.node('Tailings', 'Tailings', shape='box')\n",
    "\n",
    "# Add unit nodes\n",
    "for n in range(int((circuit_conf.size - 1) / 2)):\n",
    "    dot.node(\"Unit{}\".format(n), \"Unit {}\".format(n), shape='box')\n",
    "\n",
    "# Add an arrow from \"feed\" to a certain unit\n",
    "dot.edge(\"Feed\", \"Unit{}\".format(circuit_conf[0]), constraint='false', color='blue')\n",
    "\n",
    "# Add some arrows\n",
    "for n in range(circuit_conf.size):\n",
    "    if n > 0:\n",
    "        if circuit_conf[n] == (circuit_conf.size - 1) / 2:  # Add an arrow from a certain unit to \"concentrate\"\n",
    "            if n % 2 == 0:\n",
    "                dot.edge(\"Unit{}\".format(int((n - 1) / 2)), \"Concentrate\", constraint='false', color='blue')\n",
    "            else:\n",
    "                dot.edge(\"Unit{}\".format(int((n - 1) / 2)), \"Concentrate\", constraint='false', color='red')\n",
    "        elif circuit_conf[n] == (circuit_conf.size - 1) / 2 + 1:  # Add an arrow from a certain unit to \"tailings\"\n",
    "            if n % 2 == 0:\n",
    "                dot.edge(\"Unit{}\".format(int((n - 1) / 2)), \"Tailings\", constraint='false', color='blue')\n",
    "            else:\n",
    "                dot.edge(\"Unit{}\".format(int((n - 1) / 2)), \"Tailings\", constraint='false', color='red')\n",
    "        else:  # Add an arrow from unit to unit\n",
    "            if n % 2 == 0:\n",
    "                dot.edge(\"Unit{}\".format(int((n - 1) / 2)), \"Unit{}\".format(circuit_conf[n]), constraint='false', color='blue')\n",
    "            else:\n",
    "                dot.edge(\"Unit{}\".format(int((n - 1) / 2)), \"Unit{}\".format(circuit_conf[n]), constraint='false', color='red')\n",
    "\n",
    "# Show image\n",
    "dot.render('flowchart', format='png', view=False)"
   ]
  },
  {
   "cell_type": "code",
   "execution_count": 4,
   "id": "247718b2-1172-4386-a69d-f469abba5980",
   "metadata": {
    "tags": []
   },
   "outputs": [],
   "source": [
    "# Open image\n",
    "image = Image.open('flowchart.png')\n",
    "\n",
    "# Add text to image\n",
    "draw = ImageDraw.Draw(image)\n",
    "font = ImageFont.truetype(\"arial.ttf\", 10)  # Set font\n",
    "title_text = \"Vector: \"\n",
    "title_text += np.array2string(circuit_conf)\n",
    "title_position = (10, 10)  # Set position\n",
    "draw.text(title_position, title_text, font=font, fill=(0, 0, 0))  # Add text\n",
    "\n",
    "title_text = \"Optimum: \"\n",
    "title_text += str(monetary_value[0])\n",
    "title_position = (10, 20) \n",
    "draw.text(title_position, title_text, font=font, fill=(0, 0, 0))\n",
    "\n",
    "# Save image with text\n",
    "image.save('flowchart.png')"
   ]
  },
  {
   "cell_type": "markdown",
   "id": "61bbf722-b512-45d9-a31b-6f22de50e7ab",
   "metadata": {},
   "source": [
    "#### Show the image"
   ]
  },
  {
   "cell_type": "code",
   "execution_count": 5,
   "id": "0e8d0429-2983-4218-a98b-e7e0a44f90d0",
   "metadata": {
    "tags": []
   },
   "outputs": [
    {
     "data": {
      "image/png": "[encoded data removed]",
      "text/plain": [
       "<Figure size 640x480 with 1 Axes>"
      ]
     },
     "metadata": {},
     "output_type": "display_data"
    }
   ],
   "source": [
    "# Read image\n",
    "image = plt.imread('flowchart.png')\n",
    "\n",
    "# Show image\n",
    "plt.imshow(image)\n",
    "plt.axis('off')  # Delete axiss\n",
    "plt.show()"
   ]
  },
  {
   "cell_type": "code",
   "execution_count": null,
   "id": "bc361abb-0578-431f-84d8-546753383e9f",
   "metadata": {},
   "outputs": [],
   "source": []
  }
 ],
 "metadata": {
  "kernelspec": {
   "display_name": "Python 3 (ipykernel)",
   "language": "python",
   "name": "python3"
  },
  "language_info": {
   "codemirror_mode": {
    "name": "ipython",
    "version": 3
   },
   "file_extension": ".py",
   "mimetype": "text/x-python",
   "name": "python",
   "nbconvert_exporter": "python",
   "pygments_lexer": "ipython3",
   "version": "3.9.13"
  }
 },
 "nbformat": 4,
 "nbformat_minor": 5
}
